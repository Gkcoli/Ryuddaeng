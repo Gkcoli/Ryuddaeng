{
  "nbformat": 4,
  "nbformat_minor": 0,
  "metadata": {
    "colab": {
      "provenance": [],
      "authorship_tag": "ABX9TyPWwPD6yZUgxcg9CDdo5PqI",
      "include_colab_link": true
    },
    "kernelspec": {
      "name": "python3",
      "display_name": "Python 3"
    },
    "language_info": {
      "name": "python"
    }
  },
  "cells": [
    {
      "cell_type": "markdown",
      "metadata": {
        "id": "view-in-github",
        "colab_type": "text"
      },
      "source": [
        "<a href=\"https://colab.research.google.com/github/Gkcoli/Ryuddaeng/blob/main/Coli.ipynb\" target=\"_parent\"><img src=\"https://colab.research.google.com/assets/colab-badge.svg\" alt=\"Open In Colab\"/></a>"
      ]
    },
    {
      "cell_type": "code",
      "execution_count": null,
      "metadata": {
        "colab": {
          "base_uri": "https://localhost:8080/"
        },
        "id": "lCwbBuLZ4iSq",
        "outputId": "477309df-8f77-4b43-9e92-ed87045970cd"
      },
      "outputs": [
        {
          "output_type": "stream",
          "name": "stdout",
          "text": [
            "I will now count my chickens:\n",
            "Hens 30.0\n",
            "Roosters 97\n",
            "Now i will count the eggs:\n",
            "6.75\n",
            "Is is true that 3 + 2 < 5 - 7\n",
            "False\n",
            "What is 3 + 2?, 5\n",
            "What is 5 - 7 -2\n",
            "Oh, that's why it's False.\n",
            "How about some more.\n",
            "Is it greater? True\n",
            "Is it greater or equal? True\n",
            "Is it less or equal? False\n"
          ]
        }
      ],
      "source": [
        "print(\"I will now count my chickens:\")\n",
        "\n",
        "print(\"Hens\", 25 + 30 / 6)\n",
        "print(\"Roosters\", 100 - 25 * 3 % 4)\n",
        "\n",
        "print(\"Now i will count the eggs:\")\n",
        "\n",
        "print(3 + 2 + 1 - 5 + 4 % 2 - 1 / 4 + 6)\n",
        "\n",
        "print(\"Is is true that 3 + 2 < 5 - 7\")\n",
        "\n",
        "print(3 + 2 < 5 - 7)\n",
        "\n",
        "print(\"What is 3 + 2?,\", 3+2)\n",
        "print(\"What is 5 - 7\", 5-7)\n",
        "\n",
        "print(\"Oh, that's why it's False.\")\n",
        "\n",
        "print(\"How about some more.\")\n",
        "\n",
        "print(\"Is it greater?\", 5> -2)\n",
        "print(\"Is it greater or equal?\", 5>= -2)\n",
        "print(\"Is it less or equal?\", 5<= -2)"
      ]
    },
    {
      "cell_type": "code",
      "source": [
        "def i(rows=20):\n",
        "    for k in range(rows):\n",
        "\n",
        "            print('/'*(rows-k-1) + '*'*(2*k+1) + \"\\\\\" *(rows-k-1))\n",
        "i(20)"
      ],
      "metadata": {
        "id": "m8ylBVbWJkaj",
        "outputId": "f24eb6a6-3217-46d6-a686-be97f168ae29",
        "colab": {
          "base_uri": "https://localhost:8080/"
        }
      },
      "execution_count": null,
      "outputs": [
        {
          "output_type": "stream",
          "name": "stdout",
          "text": [
            "///////////////////*\\\\\\\\\\\\\\\\\\\\\\\\\\\\\\\\\\\\\\\n",
            "//////////////////***\\\\\\\\\\\\\\\\\\\\\\\\\\\\\\\\\\\\\n",
            "/////////////////*****\\\\\\\\\\\\\\\\\\\\\\\\\\\\\\\\\\\n",
            "////////////////*******\\\\\\\\\\\\\\\\\\\\\\\\\\\\\\\\\n",
            "///////////////*********\\\\\\\\\\\\\\\\\\\\\\\\\\\\\\\n",
            "//////////////***********\\\\\\\\\\\\\\\\\\\\\\\\\\\\\n",
            "/////////////*************\\\\\\\\\\\\\\\\\\\\\\\\\\\n",
            "////////////***************\\\\\\\\\\\\\\\\\\\\\\\\\n",
            "///////////*****************\\\\\\\\\\\\\\\\\\\\\\\n",
            "//////////*******************\\\\\\\\\\\\\\\\\\\\\n",
            "/////////*********************\\\\\\\\\\\\\\\\\\\n",
            "////////***********************\\\\\\\\\\\\\\\\\n",
            "///////*************************\\\\\\\\\\\\\\\n",
            "//////***************************\\\\\\\\\\\\\n",
            "/////*****************************\\\\\\\\\\\n",
            "////*******************************\\\\\\\\\n",
            "///*********************************\\\\\\\n",
            "//***********************************\\\\\n",
            "/*************************************\\\n",
            "***************************************\n"
          ]
        }
      ]
    },
    {
      "cell_type": "code",
      "source": [
        "print(eval(input(\"Number :\")))"
      ],
      "metadata": {
        "colab": {
          "base_uri": "https://localhost:8080/"
        },
        "id": "5Fs_K6k8_znl",
        "outputId": "cc102db4-b55d-4300-cc17-c106a6acdef0"
      },
      "execution_count": null,
      "outputs": [
        {
          "output_type": "stream",
          "name": "stdout",
          "text": [
            "Number :75 % 4\n",
            "3\n"
          ]
        }
      ]
    },
    {
      "cell_type": "code",
      "source": [
        "print(\"What is love\", 100 + 43)"
      ],
      "metadata": {
        "colab": {
          "base_uri": "https://localhost:8080/"
        },
        "id": "F7SRNCS5J-u6",
        "outputId": "1fac23e4-849c-402e-89f0-89caee1b1a86"
      },
      "execution_count": null,
      "outputs": [
        {
          "output_type": "stream",
          "name": "stdout",
          "text": [
            "What is love 143\n"
          ]
        }
      ]
    },
    {
      "cell_type": "code",
      "source": [
        "cars = 100\n",
        "space_in_a_car = 4.0\n",
        "drivers = 30\n",
        "passengers = 90\n",
        "cars_not_driven = cars - drivers\n",
        "cars_driven = drivers\n",
        "carpool_capacity = cars_driven * space_in_a_car\n",
        "average_passengers_per_car = passengers / cars_driven\n",
        "print(\"There are\", cars,\"cars available.\")\n",
        "print(\"There are only\", drivers,\"drivers available.\")\n",
        "print(\"There will be\", cars_not_driven,\"empty cars today.\")\n",
        "print(\"We can transport\", carpool_capacity,\"people today.\")\n",
        "print(\"We have\", passengers,\"to carpool today.\")\n",
        "print(\"We need to put about\", average_passengers_per_car,\"in each car.\")"
      ],
      "metadata": {
        "colab": {
          "base_uri": "https://localhost:8080/"
        },
        "id": "MlVa0tqrMt7w",
        "outputId": "488ad1b3-5b3a-41f0-c57c-67f4b472c24f"
      },
      "execution_count": null,
      "outputs": [
        {
          "output_type": "stream",
          "name": "stdout",
          "text": [
            "There are 100 cars available.\n",
            "There are only 30 drivers available.\n",
            "There will be 70 empty cars today.\n",
            "We can transport 120.0 people today.\n",
            "We have 90 to carpool today.\n",
            "We need to put about 3.0 in each car.\n"
          ]
        }
      ]
    },
    {
      "cell_type": "code",
      "source": [
        "age = 20\n",
        "age = 30\n",
        "print(age)"
      ],
      "metadata": {
        "colab": {
          "base_uri": "https://localhost:8080/"
        },
        "id": "qkYPbdAHM0DN",
        "outputId": "138cb1ad-4e4d-40a9-98f1-18f1393973cf"
      },
      "execution_count": null,
      "outputs": [
        {
          "output_type": "stream",
          "name": "stdout",
          "text": [
            "30\n"
          ]
        }
      ]
    },
    {
      "cell_type": "code",
      "source": [
        "print(True and True)\n",
        "print(False and True)\n",
        "print(1 == 1 and 2 == 1)\n",
        "print(\"test\" == \"test\")\n",
        "print(1 == 1 or 2 != 1)\n",
        "print(True and 1 == 1)\n",
        "print(False and 0 != 0)\n",
        "print(True or 1 == 1)\n",
        "print(\"test\" == \"testing\")\n",
        "print(1 != 0 and 2 == 1)\n",
        "print(\"test\" != \"testing\")\n",
        "print(\"test\" == 1)\n",
        "print(not(True and False))\n",
        "print(not(1 == 1 and 0 != 1))\n",
        "print(not(10 == 1 or 1000 == 1000))\n",
        "print(not(1 != 10 or 3 == 4))\n",
        "print(not(\"testing\" == \"testing\"and\"Zed\" == \"Cool Guy\"))\n",
        "print(1 == 1and(not(\"testing\" == 1 or 1 == 0)))\n",
        "print(\"chunky\" == \"bacon\"and(not(3 == 4 or 3 == 3)))\n",
        "print(3 == 3and(not(\"testing\" == \"testing\"or\"Python\" == \"Fun\")))"
      ],
      "metadata": {
        "colab": {
          "base_uri": "https://localhost:8080/"
        },
        "id": "C3TL8hoRNtk-",
        "outputId": "1b233e05-93cf-4c06-8920-73880dc861ce"
      },
      "execution_count": null,
      "outputs": [
        {
          "output_type": "stream",
          "name": "stdout",
          "text": [
            "True\n",
            "False\n",
            "False\n",
            "True\n",
            "True\n",
            "True\n",
            "False\n",
            "True\n",
            "False\n",
            "False\n",
            "True\n",
            "False\n",
            "True\n",
            "False\n",
            "False\n",
            "False\n",
            "True\n",
            "True\n",
            "False\n",
            "False\n"
          ]
        }
      ]
    },
    {
      "cell_type": "code",
      "source": [
        "print(\"How old are you? \", end='')\n",
        "age = input()\n",
        "print(\"How tall are you? \", end='')\n",
        "height = input()\n",
        "print(\"How much do you weigh? \", end=\"\")\n",
        "weight = input()\n",
        "\n",
        "print(f\"So you're {age} old, {height} tall and {weight} heavy.\")"
      ],
      "metadata": {
        "colab": {
          "base_uri": "https://localhost:8080/"
        },
        "id": "lCLLRrY3Ou4G",
        "outputId": "6c85c4cd-b441-4fb4-c9cc-76adace1bdb6"
      },
      "execution_count": null,
      "outputs": [
        {
          "output_type": "stream",
          "name": "stdout",
          "text": [
            "How old are you? 18\n",
            "How tall are you? 5'9\n",
            "How much do you weigh? 68\n",
            "So you're 18 old, 5'9 tall and 68 heavy.\n"
          ]
        }
      ]
    },
    {
      "cell_type": "code",
      "source": [
        "i = 1\n",
        "while i<23:\n",
        "  print(i)\n",
        "  i = i + 1"
      ],
      "metadata": {
        "id": "E4n9uK32XtdX"
      },
      "execution_count": null,
      "outputs": []
    },
    {
      "cell_type": "code",
      "source": [
        "for i in range(20, 0, -1):\n",
        "  print(i)"
      ],
      "metadata": {
        "id": "5x4btGzc50BB"
      },
      "execution_count": null,
      "outputs": []
    },
    {
      "cell_type": "code",
      "source": [
        "i = 1\n",
        "while i<21:\n",
        "    print(i*\"*\")\n",
        "    i = i + 1"
      ],
      "metadata": {
        "id": "EKum_w3HYkuG"
      },
      "execution_count": null,
      "outputs": []
    },
    {
      "cell_type": "code",
      "source": [
        "rows = int(input(\"Enter the number of rows: \"))\n",
        "k = 0\n",
        "\n",
        "for i in range(1, rows+1):\n",
        "  for space in range(1, (rows-i)+1):\n",
        "    print(end=\"  \")\n",
        "\n",
        "  while k!=(2*i-1):\n",
        "    print(\"* \", end=\"\")\n",
        "    k += 1\n",
        "\n",
        "  k = 0\n",
        "  print()\n"
      ],
      "metadata": {
        "id": "CSsuxQOI6pTg"
      },
      "execution_count": null,
      "outputs": []
    },
    {
      "cell_type": "code",
      "source": [
        "#GRADES\n",
        "x = int(input(\"Whats your grade? \"))\n",
        "\n",
        "if x >= 96 and x <= 100 :\n",
        "  print(\"4.0\")\n",
        "\n",
        "elif x >= 90 and x <= 95 :\n",
        "  print(\"3.5\")\n",
        "\n",
        "elif x >= 84  and x <= 89:\n",
        "  print(\"3.0\")\n",
        "\n",
        "elif x >= 78 and x <= 83:\n",
        "  print(\"2.5\")\n",
        "\n",
        "elif x >= 72  and x <= 77:\n",
        "  print(\"2.0\")\n",
        "\n",
        "elif x >= 66  and x <= 71:\n",
        "  print(\"1.5\")\n",
        "\n",
        "elif x >= 60  and x <= 65:\n",
        "  print(\"1.0\")\n",
        "\n",
        "else:\n",
        "  print(\"Repeat\")\n"
      ],
      "metadata": {
        "id": "W9wQK1i0uATd"
      },
      "execution_count": null,
      "outputs": []
    },
    {
      "cell_type": "code",
      "source": [
        "#JACKENPOY\n",
        "r = \"rock\"\n",
        "p = \"paper\"\n",
        "s = \"scissor\"\n",
        "\n",
        "x = input(\"P1 = Pick: R/P/S \")\n",
        "y = input(\"P2 = Pick: R/P/S \")\n",
        "\n",
        "if x == r and y == r:\n",
        "  print (\"Tie \")\n",
        "\n",
        "elif x == r and y == p:\n",
        "  print (\"Paper Wins \")\n",
        "\n",
        "elif x == r and y == s:\n",
        "  print (\"Rock Wins \")\n",
        "\n",
        "elif x == p and y == r:\n",
        "  print (\"Paper wins \")\n",
        "\n",
        "elif x == p and y == p:\n",
        "  print (\"Tie \")\n",
        "\n",
        "elif x == p and y == s:\n",
        "  print (\"Scissor Wins \")\n",
        "\n",
        "elif x == s and y ==r:\n",
        "  print (\"Rock wins \")\n",
        "\n",
        "elif x == s and y == p:\n",
        "  print (\"Scissor Wins \")\n",
        "\n",
        "elif x == s and y == s:\n",
        "  print (\"Tie \")\n",
        "\n",
        "else:\n",
        "  print (\"No choice detected \")"
      ],
      "metadata": {
        "id": "JYj8Wl0yuZfH"
      },
      "execution_count": null,
      "outputs": []
    },
    {
      "cell_type": "code",
      "source": [
        "#NUMBER GAME\n",
        "\n",
        "n1= int(input(\"P1 = Enter a number: \"))\n",
        "\n",
        "n2= int(input(\"P2 = Enter a number: \"))\n",
        "\n",
        "\n",
        "\n",
        "if (n1>n2):\n",
        "\n",
        "  print (\"P1 won\")\n",
        "\n",
        "\n",
        "\n",
        "elif (n2>n1):\n",
        "\n",
        "  print (\"P2 won\")\n",
        "\n",
        "\n",
        "\n",
        "else:\n",
        "  print (\"0\")"
      ],
      "metadata": {
        "id": "KjYAeCcMx244"
      },
      "execution_count": null,
      "outputs": []
    },
    {
      "cell_type": "code",
      "source": [
        "  print(\"Twinkle, twinkle, litte star, \")\n",
        "  print(\"\\tHow I wonder what you are!\")\n",
        "  print(\"\\tUp Above the world so high,\")\n",
        "  print(\"Twinkle, twinkle, litte star, \")\n",
        "  print(\"\\tHow I wonder what you are!\")\n",
        "\n",
        "\n"
      ],
      "metadata": {
        "id": "jCT7JmmE86K3",
        "outputId": "f7e100e3-7d49-48e9-829d-f8bc35bb1c80",
        "colab": {
          "base_uri": "https://localhost:8080/"
        }
      },
      "execution_count": null,
      "outputs": [
        {
          "output_type": "stream",
          "name": "stdout",
          "text": [
            "Twinkle, twinkle, litte star, \n",
            "\tHow I wonder what you are!\n",
            "\tUp Above the world so high,\n",
            "Twinkle, twinkle, litte star, \n",
            "\tHow I wonder what you are!\n"
          ]
        }
      ]
    },
    {
      "cell_type": "code",
      "source": [
        "import threading"
      ],
      "metadata": {
        "id": "SUw2Qztw1n0B"
      },
      "execution_count": null,
      "outputs": []
    },
    {
      "cell_type": "code",
      "source": [
        "class myMessenger(threading.Thread):\n",
        "    def run(self):\n",
        "        for _ in range(15):\n",
        "            print(threading.currentThread().getName())"
      ],
      "metadata": {
        "id": "X2ucye7ou8ti"
      },
      "execution_count": null,
      "outputs": []
    },
    {
      "cell_type": "code",
      "source": [
        "x = myMessenger(name=\"Hanggang Delulu nalang ba?\")\n",
        "y = myMessenger(name=\"Huy galaw galaw beh!!!\")"
      ],
      "metadata": {
        "id": "muiCL4BnvJE5"
      },
      "execution_count": null,
      "outputs": []
    },
    {
      "cell_type": "code",
      "source": [
        "x.start()\n",
        "y.start()"
      ],
      "metadata": {
        "colab": {
          "base_uri": "https://localhost:8080/"
        },
        "id": "wWAD9vnZvbun",
        "outputId": "3cd6aecd-1dc6-4804-cd33-282a27d13649"
      },
      "execution_count": null,
      "outputs": [
        {
          "output_type": "stream",
          "name": "stdout",
          "text": [
            "Hanggang Delulu nalang ba?\n",
            "Hanggang Delulu nalang ba?\n",
            "Hanggang Delulu nalang ba?\n",
            "Hanggang Delulu nalang ba?\n",
            "Hanggang Delulu nalang ba?\n",
            "Hanggang Delulu nalang ba?\n",
            "Hanggang Delulu nalang ba?\n",
            "Hanggang Delulu nalang ba?\n",
            "Hanggang Delulu nalang ba?\n",
            "Hanggang Delulu nalang ba?\n",
            "Hanggang Delulu nalang ba?\n",
            "Hanggang Delulu nalang ba?\n",
            "Hanggang Delulu nalang ba?\n",
            "Hanggang Delulu nalang ba?\n",
            "Hanggang Delulu nalang ba?\n",
            "Huy galaw galaw beh!!!"
          ]
        },
        {
          "output_type": "stream",
          "name": "stderr",
          "text": [
            "<ipython-input-2-18e0cbf39a6a>:4: DeprecationWarning: currentThread() is deprecated, use current_thread() instead\n",
            "  print(threading.currentThread().getName())\n",
            "<ipython-input-2-18e0cbf39a6a>:4: DeprecationWarning: getName() is deprecated, get the name attribute instead\n",
            "  print(threading.currentThread().getName())\n"
          ]
        },
        {
          "output_type": "stream",
          "name": "stdout",
          "text": [
            "\n",
            "Huy galaw galaw beh!!!\n",
            "Huy galaw galaw beh!!!\n",
            "Huy galaw galaw beh!!!\n",
            "Huy galaw galaw beh!!!\n",
            "Huy galaw galaw beh!!!\n",
            "Huy galaw galaw beh!!!\n",
            "Huy galaw galaw beh!!!\n",
            "Huy galaw galaw beh!!!\n",
            "Huy galaw galaw beh!!!\n",
            "Huy galaw galaw beh!!!\n",
            "Huy galaw galaw beh!!!\n",
            "Huy galaw galaw beh!!!\n",
            "Huy galaw galaw beh!!!\n",
            "Huy galaw galaw beh!!!\n"
          ]
        }
      ]
    },
    {
      "cell_type": "markdown",
      "source": [],
      "metadata": {
        "id": "E2fGNt1yvbZu"
      }
    },
    {
      "cell_type": "code",
      "source": [
        "pos = -1\n",
        "def search(list, n):\n",
        "  i = 0\n",
        "  while i < len(list):\n",
        "    if list[i] == n:\n",
        "      globals()['pos'] = i\n",
        "      return True\n",
        "    i = i + 1\n",
        "  return False\n",
        "\n",
        "list = [2, 5, 3, 10, 16, 23]\n",
        "n = 2\n",
        "if search(list, n):\n",
        "  print(\"found at \", pos+1)\n",
        "else:\n",
        "  print(\"not found\")"
      ],
      "metadata": {
        "colab": {
          "base_uri": "https://localhost:8080/"
        },
        "id": "dGfvos5gjCGr",
        "outputId": "68430a69-2561-4183-e345-de478fc55eaa"
      },
      "execution_count": 24,
      "outputs": [
        {
          "output_type": "stream",
          "name": "stdout",
          "text": [
            "found at  1\n"
          ]
        }
      ]
    },
    {
      "cell_type": "code",
      "source": [],
      "metadata": {
        "id": "PgkLCNgamxq-"
      },
      "execution_count": null,
      "outputs": []
    }
  ]
}